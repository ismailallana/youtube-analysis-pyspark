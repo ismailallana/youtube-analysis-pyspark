{
 "cells": [
  {
   "cell_type": "code",
   "execution_count": 2,
   "id": "f0f6b96d",
   "metadata": {},
   "outputs": [],
   "source": [
    "from pyspark import SparkConf, SparkContext\n",
    "\n",
    "spark_conf = SparkConf()\\\n",
    "        .setAppName(\"11-iall9376-ismail-allana\")\n",
    "sc=SparkContext.getOrCreate(spark_conf)"
   ]
  },
  {
   "cell_type": "code",
   "execution_count": 3,
   "id": "882b3f46",
   "metadata": {},
   "outputs": [],
   "source": [
    "from datetime import datetime"
   ]
  },
  {
   "cell_type": "code",
   "execution_count": 4,
   "id": "6578d6fa",
   "metadata": {},
   "outputs": [],
   "source": [
    "## Read the input as line and convert into RDD of string\n",
    "videosRDD = sc.textFile('AllVideos.csv')"
   ]
  },
  {
   "cell_type": "code",
   "execution_count": 5,
   "id": "316361aa",
   "metadata": {},
   "outputs": [
    {
     "data": {
      "text/plain": [
       "['SbOwzAl9ZfQ,17.14.11,Entertainment,310130,4182,361,MX',\n",
       " 'klOV6Xh-DnI,17.14.11,People & Blogs,104972,271,174,MX',\n",
       " '6L2ZF7Qzsbk,17.14.11,News & Politics,136064,10105,266,MX',\n",
       " 'hcY52MFWMDM,17.14.11,News & Politics,96153,378,171,MX',\n",
       " '_OXDcGPVAa4,17.14.11,Howto & Style,499965,57781,681,MX']"
      ]
     },
     "execution_count": 5,
     "metadata": {},
     "output_type": "execute_result"
    }
   ],
   "source": [
    "videosRDD.take(5)"
   ]
  },
  {
   "cell_type": "markdown",
   "id": "9d030f65",
   "metadata": {},
   "source": [
    "## Workload 1 (Controversial Videos)"
   ]
  },
  {
   "cell_type": "markdown",
   "id": "44be50ac",
   "metadata": {},
   "source": [
    "### User defined functions for mapping"
   ]
  },
  {
   "cell_type": "code",
   "execution_count": 7,
   "id": "e0fcb0ef",
   "metadata": {},
   "outputs": [],
   "source": [
    "def extractRecords(record):\n",
    "    '''Rearranges the RDD into key value pair of (Country,VideoID) and (Date,likes,dislikes) \n",
    "    while converting likes and dislikes into integar format'''\n",
    "    video,date,category,views,likes,dislikes,country = record.split(',')\n",
    "    likes = int(likes)\n",
    "    dislikes = int(dislikes)\n",
    "    return ((country,video),(date,likes,dislikes))\n",
    "\n",
    "def sortDates(record):\n",
    "    '''For each country Video ID pair this function removes all the dates except first and last appearance date'''\n",
    "    key = record[0]\n",
    "    values = record[1]\n",
    "    values = sorted(values,key=lambda x:datetime.strptime(x[0],'%y.%d.%m'))\n",
    "    firstapp = values[0]\n",
    "    lastapp = values[-1]\n",
    "    return (key,(firstapp,lastapp))"
   ]
  },
  {
   "cell_type": "markdown",
   "id": "ea51024e",
   "metadata": {},
   "source": [
    "### Computation Graph"
   ]
  },
  {
   "cell_type": "code",
   "execution_count": 13,
   "id": "abd051ca",
   "metadata": {},
   "outputs": [],
   "source": [
    "## We parse the given dataset into an RDD of key value pair of (country,videoID):(date,likes,dislikes)\n",
    "formattedRDD = videosRDD.map(extractRecords)\n",
    "## Grouping the RDD by Key\n",
    "groupedRDD = formattedRDD.groupByKey().mapValues(list)\n",
    "## Filter our the first and last appearance of each video\n",
    "filteredRDD = groupedRDD.map(sortDates)\n",
    "## Filter out videos with single appearance\n",
    "filteredRDD2 = filteredRDD.filter(lambda x: x[1][0] != x[1][1])\n",
    "## Ungroup the filtered data\n",
    "ungroupRDD = filteredRDD2.flatMapValues( lambda x:x)\n",
    "## Subtract the likes and dislikes of first appearance from last\n",
    "differenceRDD = ungroupRDD.reduceByKey(lambda x,y: (y[1]-x[1],y[2]-x[2]))\n",
    "## Subtract the resultant likes from dislikes\n",
    "finalRDD = differenceRDD.mapValues(lambda x: x[1]-x[0])"
   ]
  },
  {
   "cell_type": "markdown",
   "id": "93e12237",
   "metadata": {},
   "source": [
    "### The final result"
   ]
  },
  {
   "cell_type": "code",
   "execution_count": 9,
   "id": "01c94083",
   "metadata": {},
   "outputs": [
    {
     "data": {
      "text/plain": [
       "[('QwZT7T-TXT0', 579119, 'GB'),\n",
       " ('QwZT7T-TXT0', 478100, 'US'),\n",
       " ('BEePFpC9qG8', 365862, 'DE'),\n",
       " ('RmZ3DPJQo2k', 334390, 'KR'),\n",
       " ('q8v9MvManKE', 299044, 'IN'),\n",
       " ('pOHQdIDds6s', 160365, 'CA'),\n",
       " ('ZGEoqPpJQLE', 151913, 'RU'),\n",
       " ('84LBjXaeKk4', 134836, 'FR'),\n",
       " ('84LBjXaeKk4', 134834, 'DE'),\n",
       " ('84LBjXaeKk4', 121240, 'RU')]"
      ]
     },
     "execution_count": 9,
     "metadata": {},
     "output_type": "execute_result"
    }
   ],
   "source": [
    "finalRDD.map(lambda x: (x[0][1],x[1],x[0][0])).takeOrdered(10, key = lambda x: -x[1])"
   ]
  },
  {
   "cell_type": "markdown",
   "id": "00340362",
   "metadata": {},
   "source": [
    "## Workload 2 (Country Number of each category)"
   ]
  },
  {
   "cell_type": "markdown",
   "id": "f2f10cc2",
   "metadata": {},
   "source": [
    "### User defined functions for mapping/"
   ]
  },
  {
   "cell_type": "code",
   "execution_count": 10,
   "id": "762c9fdb",
   "metadata": {},
   "outputs": [],
   "source": [
    "def pairCategoryVideos(record):\n",
    "    '''Takes the RDD as input and returns key value pair of Category and Video ID'''\n",
    "    video,date,category,views,likes,dislikes,country = record.split(',')\n",
    "    return (category,video)\n",
    "\n",
    "def pairCategoryCountry(record):\n",
    "    '''Takes the RDD as input and returns key value pair of (Category,VideoID) and Country'''\n",
    "    video,date,category,views,likes,dislikes,country = record.split(',')\n",
    "    return ((category,video),country)"
   ]
  },
  {
   "cell_type": "markdown",
   "id": "01ecc5a7",
   "metadata": {},
   "source": [
    "### Computation Graph"
   ]
  },
  {
   "cell_type": "code",
   "execution_count": 11,
   "id": "6b4f1dfd",
   "metadata": {},
   "outputs": [],
   "source": [
    "## Parse the dataset into Category video pair to find the number of videos in each category (the denominator)\n",
    "categoriesRDD = videosRDD.map(pairCategoryVideos)\n",
    "## Removing duplicate values\n",
    "distinctRDD = categoriesRDD.distinct()\n",
    "## Group the remaining results by category\n",
    "groupedRDD3 = distinctRDD.groupByKey().mapValues(list)\n",
    "## Count the number of videos in each category\n",
    "countRDD = groupedRDD3.map(lambda x: (x[0],len(x[1])))\n",
    "## Make another RDD with (Category,VideoID):Country as the key value pair to calculate the numerator\n",
    "countriesRDD = videosRDD.map(pairCategoryCountry)\n",
    "## Remove duplicate entries\n",
    "distinctRDD2 = countriesRDD.distinct()\n",
    "## Group the remaining result by key\n",
    "groupedRDD4 = distinctRDD2.groupByKey().mapValues(list)\n",
    "## Removing the video ID from each key and calculating the length of lists that we grouped in the last step\n",
    "groupedRDD5 = groupedRDD4.map(lambda x: (x[0][0],len(x[1])))\n",
    "## Reduce the RDD by adding all the elements together for each category\n",
    "countRDD2 = groupedRDD5.reduceByKey(lambda x,y:x+y)\n",
    "## Join the two RDD together\n",
    "joinedRDD = countRDD2.join(countRDD)\n",
    "## Divide the two columns to find the country number\n",
    "finalRDD = joinedRDD.mapValues(lambda x: x[0]/x[1])"
   ]
  },
  {
   "cell_type": "markdown",
   "id": "92ccac83",
   "metadata": {},
   "source": [
    "### The final result"
   ]
  },
  {
   "cell_type": "code",
   "execution_count": 12,
   "id": "0cee2ccf",
   "metadata": {},
   "outputs": [
    {
     "data": {
      "text/plain": [
       "[('Trailers', 1.0),\n",
       " ('Autos & Vehicles', 1.0190448285965426),\n",
       " ('News & Politics', 1.0527098256521152),\n",
       " ('Nonprofits & Activism', 1.057344064386318),\n",
       " ('Education', 1.0628976994615762),\n",
       " ('People & Blogs', 1.063884131133748),\n",
       " ('Pets & Animals', 1.0703560703560704),\n",
       " ('Howto & Style', 1.0875230863944183),\n",
       " ('Travel & Events', 1.0929411764705883),\n",
       " ('Gaming', 1.09443748882132),\n",
       " ('Sports', 1.1421507122296848),\n",
       " ('Entertainment', 1.1446024282935856),\n",
       " ('Science & Technology', 1.1626835588828102),\n",
       " ('Film & Animation', 1.1677314564158094),\n",
       " ('Comedy', 1.2142258635136394),\n",
       " ('Movies', 1.25),\n",
       " ('Music', 1.3105183216252136),\n",
       " ('Shows', 1.555045871559633)]"
      ]
     },
     "execution_count": 12,
     "metadata": {},
     "output_type": "execute_result"
    }
   ],
   "source": [
    "finalRDD.takeOrdered(18, key = lambda x: x[1])"
   ]
  }
 ],
 "metadata": {
  "kernelspec": {
   "display_name": "Python 3",
   "language": "python",
   "name": "python3"
  },
  "language_info": {
   "codemirror_mode": {
    "name": "ipython",
    "version": 3
   },
   "file_extension": ".py",
   "mimetype": "text/x-python",
   "name": "python",
   "nbconvert_exporter": "python",
   "pygments_lexer": "ipython3",
   "version": "3.8.8"
  }
 },
 "nbformat": 4,
 "nbformat_minor": 5
}
